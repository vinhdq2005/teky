{
 "cells": [
  {
   "cell_type": "code",
   "execution_count": null,
   "metadata": {},
   "outputs": [],
   "source": [
    "a = 0\n",
    "while a < 100:\n",
    "    b = c = 0\n",
    "    while b < 100:\n",
    "        print(\"*  \", end=\"\")\n",
    "        b += 1\n",
    "    while c < 100:\n",
    "        print(\" *  \", end=\"\")\n",
    "        c +=  1\n",
    "    a += 1"
   ]
  },
  {
   "cell_type": "markdown",
   "metadata": {},
   "source": [
    "Hoạt động lớp học:\n",
    "- Gồm 3 đoạn code và kết quả. Nhiệm vụ: ghép 2 cột với nhau\n"
   ]
  },
  {
   "cell_type": "code",
   "execution_count": 1,
   "metadata": {},
   "outputs": [
    {
     "name": "stdout",
     "output_type": "stream",
     "text": [
      "10 8 6 4 2 "
     ]
    }
   ],
   "source": [
    "# Code 1:\n",
    "i = 10\n",
    "while i>0:\n",
    "    print(i, end=\" \")\n",
    "    i -= 2\n",
    "# Kết quả: 10 8 6 4 2"
   ]
  },
  {
   "cell_type": "code",
   "execution_count": null,
   "metadata": {},
   "outputs": [],
   "source": [
    "# Code 2:\n",
    "i = 1\n",
    "while i>0:\n",
    "    print(\"Hello Teky!\")\n",
    "# Kết quả: in ra vô số dòng \"Hello Teky!\""
   ]
  },
  {
   "cell_type": "code",
   "execution_count": null,
   "metadata": {},
   "outputs": [],
   "source": [
    "# Code 3:\n",
    "while a>0:\n",
    "    print(\"Hello Teky!\")\n",
    "# Kết quả: báo lỗi"
   ]
  },
  {
   "cell_type": "markdown",
   "metadata": {},
   "source": [
    "Thực hành\n"
   ]
  },
  {
   "cell_type": "code",
   "execution_count": 8,
   "metadata": {},
   "outputs": [
    {
     "name": "stdout",
     "output_type": "stream",
     "text": [
      "* * * * * \n",
      "* * * * * \n",
      "* * * * * \n",
      "* * * * * \n",
      "* * * * * \n"
     ]
    }
   ],
   "source": [
    "# Thực hành 1:\n",
    "i = 5\n",
    "while i>0:\n",
    "    print(\"* \"*5)\n",
    "    i -= 1"
   ]
  },
  {
   "cell_type": "code",
   "execution_count": 2,
   "metadata": {},
   "outputs": [
    {
     "name": "stdout",
     "output_type": "stream",
     "text": [
      "* \n",
      "* * \n",
      "* * * \n",
      "* * * * \n",
      "* * * * * \n"
     ]
    }
   ],
   "source": [
    "# Thực hành 2:\n",
    "a = 1\n",
    "while a <= 5:\n",
    "    print(\"* \"*a)\n",
    "    a += 1\n"
   ]
  }
 ],
 "metadata": {
  "kernelspec": {
   "display_name": "Python 3",
   "language": "python",
   "name": "python3"
  },
  "language_info": {
   "codemirror_mode": {
    "name": "ipython",
    "version": 3
   },
   "file_extension": ".py",
   "mimetype": "text/x-python",
   "name": "python",
   "nbconvert_exporter": "python",
   "pygments_lexer": "ipython3",
   "version": "3.11.5"
  }
 },
 "nbformat": 4,
 "nbformat_minor": 2
}
